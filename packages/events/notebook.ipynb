{
 "cells": [
  {
   "cell_type": "code",
   "execution_count": 185,
   "metadata": {},
   "outputs": [],
   "source": [
    "%%bash --out TOKEN\n",
    "# Step 1: Authenticate and extract nonce using jq\n",
    "nonce=$(curl -s 'http://localhost:7070/auth/authenticate' \\\n",
    "  -H 'Accept: application/json, text/plain, */*' \\\n",
    "  -H 'Accept-Language: en-GB,en-US;q=0.9,en;q=0.8' \\\n",
    "  -H 'Connection: keep-alive' \\\n",
    "  -H 'Content-Type: application/json' \\\n",
    "  -H 'Origin: http://localhost:3020' \\\n",
    "  -H 'Referer: http://localhost:3020/' \\\n",
    "  -H 'Sec-Fetch-Dest: empty' \\\n",
    "  -H 'Sec-Fetch-Mode: cors' \\\n",
    "  -H 'Sec-Fetch-Site: same-site' \\\n",
    "  -H 'User-Agent: Mozilla/5.0 (Macintosh; Intel Mac OS X 10_15_7) AppleWebKit/537.36 (KHTML, like Gecko) Chrome/130.0.0.0 Safari/537.36' \\\n",
    "  -H 'sec-ch-ua: \"Chromium\";v=\"130\", \"Google Chrome\";v=\"130\", \"Not?A_Brand\";v=\"99\"' \\\n",
    "  -H 'sec-ch-ua-mobile: ?0' \\\n",
    "  -H 'sec-ch-ua-platform: \"macOS\"' \\\n",
    "  --data-raw '{\"username\":\"k.mweene\",\"password\":\"test\"}' | jq -r '.nonce')\n",
    "\n",
    "# Step 2: Use the extracted nonce in the verifyCode request\n",
    "TOKEN=$(curl -s 'http://localhost:7070/auth/verifyCode' \\\n",
    "  -H 'Accept: application/json, text/plain, */*' \\\n",
    "  -H 'Accept-Language: en-GB,en-US;q=0.9,en;q=0.8' \\\n",
    "  -H 'Connection: keep-alive' \\\n",
    "  -H 'Content-Type: application/json' \\\n",
    "  -H 'Origin: http://localhost:3020' \\\n",
    "  -H 'Referer: http://localhost:3020/' \\\n",
    "  -H 'Sec-Fetch-Dest: empty' \\\n",
    "  -H 'Sec-Fetch-Mode: cors' \\\n",
    "  -H 'Sec-Fetch-Site: same-site' \\\n",
    "  -H 'User-Agent: Mozilla/5.0 (Macintosh; Intel Mac OS X 10_15_7) AppleWebKit/537.36 (KHTML, like Gecko) Chrome/130.0.0.0 Safari/537.36' \\\n",
    "  -H 'sec-ch-ua: \"Chromium\";v=\"130\", \"Google Chrome\";v=\"130\", \"Not?A_Brand\";v=\"99\"' \\\n",
    "  -H 'sec-ch-ua-mobile: ?0' \\\n",
    "  -H 'sec-ch-ua-platform: \"macOS\"' \\\n",
    "  --data-raw \"{\\\"code\\\":\\\"000000\\\",\\\"nonce\\\":\\\"$nonce\\\"}\" | jq -r '.token')\n",
    "\n",
    "echo \"$TOKEN\""
   ]
  },
  {
   "cell_type": "markdown",
   "metadata": {},
   "source": [
    "# Create an \"event\""
   ]
  },
  {
   "cell_type": "code",
   "execution_count": 186,
   "metadata": {},
   "outputs": [
    {
     "name": "stderr",
     "output_type": "stream",
     "text": [
      "  % Total    % Received % Xferd  Average Speed   Time    Time     Time  Current\n",
      "                                 Dload  Upload   Total   Spent    Left  Speed\n",
      "100   577  100   299  100   278    686    638 --:--:-- --:--:-- --:--:--  1323\n"
     ]
    }
   ],
   "source": [
    "%%bash -s \"$TOKEN\" --out id\n",
    "\n",
    "TOKEN=$1\n",
    "response_data=$(curl --request POST \\\n",
    "  --url \"http://localhost:7070/graphql\" \\\n",
    "  --header 'Authorization: Bearer '$TOKEN \\\n",
    "  --header 'Content-Type: application/json' \\\n",
    "  -d '{\n",
    "      \"query\": \"mutation CreateEvent($input: EventInput!) { createEvent(event: $input) { id type createdAt updatedAt actions { ... on CreateAction { type createdAt createdBy data { id value } } } } }\",\n",
    "      \"variables\": { \"input\": { \"type\": \"tennis-club-membership\" } }\n",
    "    }')\n",
    "\n",
    "id=$(echo \"$response_data\" | jq '.data.createEvent.id')\n",
    "echo \"$id\""
   ]
  },
  {
   "cell_type": "code",
   "execution_count": 187,
   "metadata": {},
   "outputs": [
    {
     "name": "stdout",
     "output_type": "stream",
     "text": [
      "Event ID: '1e2404d8-0c90-4a34-91c7-fe1f27899b38'\n",
      "Token: eyJhbGciOiJSUzI1NiIsInR5cCI6IkpXVCJ9.eyJzY29wZSI6WyJyZWdpc3RlciIsInBlcmZvcm1hbmNlIiwiY2VydGlmeSIsImRlbW8iXSwiaWF0IjoxNzMyNzA5MTk0LCJleHAiOjE3MzMzMTM5OTQsImF1ZCI6WyJvcGVuY3J2czphdXRoLXVzZXIiLCJvcGVuY3J2czp1c2VyLW1nbnQtdXNlciIsIm9wZW5jcnZzOmhlYXJ0aC11c2VyIiwib3BlbmNydnM6Z2F0ZXdheS11c2VyIiwib3BlbmNydnM6bm90aWZpY2F0aW9uLXVzZXIiLCJvcGVuY3J2czp3b3JrZmxvdy11c2VyIiwib3BlbmNydnM6c2VhcmNoLXVzZXIiLCJvcGVuY3J2czptZXRyaWNzLXVzZXIiLCJvcGVuY3J2czpjb3VudHJ5Y29uZmlnLXVzZXIiLCJvcGVuY3J2czp3ZWJob29rcy11c2VyIiwib3BlbmNydnM6Y29uZmlnLXVzZXIiLCJvcGVuY3J2czpkb2N1bWVudHMtdXNlciJdLCJpc3MiOiJvcGVuY3J2czphdXRoLXNlcnZpY2UiLCJzdWIiOiI2NzMzMzA5ODI3Yjk3ZTY0ODM4NzcxODgifQ.RN47J3mCQjC1ODxdFCRDdA8MURkYvwtbdLURpwRphvi8-MpjFr5oO_38CGLyqsyrR2uLn8R1IBmhxieN1zxqJJNYqTZHhLviAFQuL9wTnYVcNw40xA6A69y-AeEstdLOgzB5kBYBJIBPW83DCpIizmSd25eIvk-Wv8zh69ybDXZ7uFJ3eiOW-kBjpT6SGj9ZX27IEODLrsrSIdM098dz-QQpwiywrjm5Oz2S9VQGmgU1ORQTrcyJDwK1mB7_SuNhbF3i1FHqd5hienYpp388OekhzjisN0M_TbWeeNwm6A__nFISViGwEhtLmYxGtFswxZUBOa3kJjR65psAUch2Ag\n",
      "\n",
      "{\n",
      "  \"data\": {\n",
      "    \"declareEvent\": {\n",
      "      \"id\": \"1e2404d8-0c90-4a34-91c7-fe1f27899b38\",\n",
      "      \"type\": \"tennis-club-membership\",\n",
      "      \"createdAt\": \"2024-11-27T12:06:34.941Z\",\n",
      "      \"updatedAt\": \"2024-11-27T12:06:34.941Z\",\n",
      "      \"actions\": [\n",
      "        {},\n",
      "        {\n",
      "          \"type\": \"DECLARE\",\n",
      "          \"createdAt\": \"2024-11-27T12:06:37.275Z\",\n",
      "          \"createdBy\": \"6733309827b97e6483877188\",\n",
      "          \"data\": [\n",
      "            {\n",
      "              \"id\": \"applicant.firstname\",\n",
      "              \"value\": \"Riku\"\n",
      "            },\n",
      "            {\n",
      "              \"id\": \"applicant.surname\",\n",
      "              \"value\": \"Rouvila\"\n",
      "            },\n",
      "            {\n",
      "              \"id\": \"applicant.dob\",\n",
      "              \"value\": \"2024-11-27T11:56:20.781Z\"\n",
      "            }\n",
      "          ]\n",
      "        }\n",
      "      ]\n",
      "    }\n",
      "  }\n",
      "}\n"
     ]
    },
    {
     "name": "stderr",
     "output_type": "stream",
     "text": [
      "  % Total    % Received % Xferd  Average Speed   Time    Time     Time  Current\n",
      "                                 Dload  Upload   Total   Spent    Left  Speed\n",
      "100  1053  100   450  100   603  22114  29632 --:--:-- --:--:-- --:--:-- 52650\n"
     ]
    }
   ],
   "source": [
    "%%bash -s \"$id\" \"$TOKEN\"\n",
    "\n",
    "id=$(echo \"$1\" | xargs)\n",
    "TOKEN=$2\n",
    "\n",
    "echo \"Event ID: '$id'\"\n",
    "echo \"Token: $TOKEN\"\n",
    "\n",
    "response_data=$(curl --request POST \\\n",
    "  --url \"http://localhost:7070/graphql\" \\\n",
    "  --header 'Authorization: Bearer '$TOKEN \\\n",
    "  --header 'Content-Type: application/json' \\\n",
    "  -d '{\n",
    "      \"query\": \"mutation DeclareEvent($eventId: ID!, $input: DeclareActionInput!) { declareEvent(eventId: $eventId, input: $input) { id type createdAt updatedAt actions { ... on DeclareAction { type createdAt createdBy data { id value } } } } }\",\n",
    "      \"variables\": {\n",
    "        \"eventId\": \"'${id}'\",\n",
    "        \"input\": {\n",
    "          \"data\": [\n",
    "            { \"id\": \"applicant.firstname\", \"value\": \"Riku\" },\n",
    "            { \"id\": \"applicant.surname\", \"value\": \"Rouvila\" },\n",
    "            { \"id\": \"applicant.dob\", \"value\": \"2024-11-27T11:56:20.781Z\" }\n",
    "          ]\n",
    "        }\n",
    "      }\n",
    "    }')\n",
    "echo \"$response_data\" | jq"
   ]
  },
  {
   "cell_type": "code",
   "execution_count": 193,
   "metadata": {},
   "outputs": [
    {
     "name": "stdout",
     "output_type": "stream",
     "text": [
      "{\n",
      "  \"data\": {\n",
      "    \"getEvent\": {\n",
      "      \"id\": \"1e2404d8-0c90-4a34-91c7-fe1f27899b38\",\n",
      "      \"type\": \"tennis-club-membership\",\n",
      "      \"createdAt\": \"2024-11-27T12:06:34.941Z\",\n",
      "      \"updatedAt\": \"2024-11-27T12:06:34.941Z\",\n",
      "      \"actions\": [\n",
      "        {\n",
      "          \"type\": \"CREATE\",\n",
      "          \"createdAt\": \"2024-11-27T12:06:34.941Z\",\n",
      "          \"createdBy\": \"6733309827b97e6483877188\",\n",
      "          \"data\": []\n",
      "        },\n",
      "        {\n",
      "          \"type\": \"DECLARE\",\n",
      "          \"createdAt\": \"2024-11-27T12:06:37.275Z\",\n",
      "          \"createdBy\": \"6733309827b97e6483877188\",\n",
      "          \"data\": [\n",
      "            {\n",
      "              \"id\": \"applicant.firstname\",\n",
      "              \"value\": \"Riku\"\n",
      "            },\n",
      "            {\n",
      "              \"id\": \"applicant.surname\",\n",
      "              \"value\": \"Rouvila\"\n",
      "            },\n",
      "            {\n",
      "              \"id\": \"applicant.dob\",\n",
      "              \"value\": \"2024-11-27T11:56:20.781Z\"\n",
      "            }\n",
      "          ]\n",
      "        }\n",
      "      ]\n",
      "    }\n",
      "  }\n",
      "}\n"
     ]
    }
   ],
   "source": [
    "%%bash -s \"$id\" \"$TOKEN\"\n",
    "\n",
    "id=$(echo \"$1\" | xargs)\n",
    "TOKEN=$2\n",
    "\n",
    "\n",
    "response_data=$(curl --request POST \\\n",
    "  --url \"http://localhost:7070/graphql\" \\\n",
    "  --silent \\\n",
    "  --header 'Authorization: Bearer '$TOKEN \\\n",
    "  --header 'Content-Type: application/json' \\\n",
    "  -d '{\n",
    "      \"query\": \"query GetEvent($eventId: ID!) { getEvent(eventId: $eventId) { id type createdAt updatedAt actions { ... on CreateAction { type createdAt createdBy data { id value } } ... on NotifyAction { type createdAt createdBy data { id value } } ... on DeclareAction { type createdAt createdBy data { id value } } ... on RegisterAction { type createdAt createdBy data { id value } } } } }\",\n",
    "      \"variables\": {\n",
    "        \"eventId\": \"'${id}'\"\n",
    "      }\n",
    "    }')\n",
    "echo \"$response_data\" | jq"
   ]
  }
 ],
 "metadata": {
  "kernelspec": {
   "display_name": "base",
   "language": "python",
   "name": "python3"
  },
  "language_info": {
   "codemirror_mode": {
    "name": "ipython",
    "version": 3
   },
   "file_extension": ".py",
   "mimetype": "text/x-python",
   "name": "python",
   "nbconvert_exporter": "python",
   "pygments_lexer": "ipython3",
   "version": "3.7.7"
  }
 },
 "nbformat": 4,
 "nbformat_minor": 2
}
